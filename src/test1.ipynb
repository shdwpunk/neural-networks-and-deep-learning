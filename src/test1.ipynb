{
 "cells": [
  {
   "cell_type": "code",
   "execution_count": 1,
   "id": "cb53178f-d115-4a98-bfc7-ab5d86de5776",
   "metadata": {},
   "outputs": [],
   "source": [
    "import mnist_loader"
   ]
  },
  {
   "cell_type": "code",
   "execution_count": 2,
   "id": "09ca986f-72a6-42bc-a85a-c869feaf27d4",
   "metadata": {},
   "outputs": [],
   "source": [
    "training_data, validation_data, test_data = mnist_loader.load_data_wrapper()"
   ]
  },
  {
   "cell_type": "code",
   "execution_count": 3,
   "id": "a55b5b65-8fc8-4e9a-b701-587f89a0889d",
   "metadata": {},
   "outputs": [],
   "source": [
    "import network"
   ]
  },
  {
   "cell_type": "code",
   "execution_count": 4,
   "id": "24176d12-3fab-4669-ba3c-2e38f118c540",
   "metadata": {},
   "outputs": [],
   "source": [
    "net = network.Network([784, 30, 10])"
   ]
  },
  {
   "cell_type": "code",
   "execution_count": 5,
   "id": "64894668-f34b-40c9-908a-526dcf0ae5cd",
   "metadata": {},
   "outputs": [
    {
     "name": "stdout",
     "output_type": "stream",
     "text": [
      "Epoch 0: 8962 / 10000\n",
      "Epoch 1: 9220 / 10000\n",
      "Epoch 2: 9273 / 10000\n",
      "Epoch 3: 9338 / 10000\n",
      "Epoch 4: 9348 / 10000\n",
      "Epoch 5: 9362 / 10000\n",
      "Epoch 6: 9404 / 10000\n",
      "Epoch 7: 9374 / 10000\n",
      "Epoch 8: 9409 / 10000\n",
      "Epoch 9: 9413 / 10000\n",
      "Epoch 10: 9412 / 10000\n",
      "Epoch 11: 9442 / 10000\n",
      "Epoch 12: 9464 / 10000\n",
      "Epoch 13: 9453 / 10000\n",
      "Epoch 14: 9459 / 10000\n",
      "Epoch 15: 9467 / 10000\n",
      "Epoch 16: 9442 / 10000\n",
      "Epoch 17: 9461 / 10000\n",
      "Epoch 18: 9469 / 10000\n",
      "Epoch 19: 9453 / 10000\n",
      "Epoch 20: 9470 / 10000\n",
      "Epoch 21: 9463 / 10000\n",
      "Epoch 22: 9488 / 10000\n",
      "Epoch 23: 9493 / 10000\n",
      "Epoch 24: 9492 / 10000\n",
      "Epoch 25: 9503 / 10000\n",
      "Epoch 26: 9426 / 10000\n",
      "Epoch 27: 9473 / 10000\n",
      "Epoch 28: 9464 / 10000\n",
      "Epoch 29: 9485 / 10000\n"
     ]
    }
   ],
   "source": [
    "net.SGD(training_data, 30, 10, 3.0, test_data=test_data)"
   ]
  },
  {
   "cell_type": "code",
   "execution_count": null,
   "id": "e542a4a9-e8ea-48be-878b-2f75698e6a54",
   "metadata": {},
   "outputs": [],
   "source": []
  }
 ],
 "metadata": {
  "kernelspec": {
   "display_name": "Python 3 (ipykernel)",
   "language": "python",
   "name": "python3"
  },
  "language_info": {
   "codemirror_mode": {
    "name": "ipython",
    "version": 3
   },
   "file_extension": ".py",
   "mimetype": "text/x-python",
   "name": "python",
   "nbconvert_exporter": "python",
   "pygments_lexer": "ipython3",
   "version": "3.12.7"
  }
 },
 "nbformat": 4,
 "nbformat_minor": 5
}
